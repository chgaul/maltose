{
 "cells": [
  {
   "cell_type": "code",
   "execution_count": 1,
   "metadata": {},
   "outputs": [],
   "source": [
    "import numpy as np\n",
    "import json\n",
    "from paths import QM9, Alchemy, OE62, HOPV"
   ]
  },
  {
   "cell_type": "code",
   "execution_count": 2,
   "metadata": {},
   "outputs": [],
   "source": [
    "inchi_dicts = {}\n",
    "with open(QM9.inchis, 'r', encoding='utf-8') as f:\n",
    "    inchi_dicts['qm9'] = json.load(f)\n",
    "with open(Alchemy.inchis, 'r', encoding='utf-8') as f:\n",
    "    inchi_dicts['alchemy'] = json.load(f)\n",
    "with open(OE62.inchis, 'r', encoding='utf-8') as f:\n",
    "    inchi_dicts['oe62'] = json.load(f)\n",
    "with open(HOPV.inchis, 'r', encoding='utf-8') as f:\n",
    "    inchi_dicts['hopv'] = json.load(f)"
   ]
  },
  {
   "cell_type": "markdown",
   "metadata": {},
   "source": [
    "# Make a train/valid/test split based only on Chemical Formula and Connectivity Layer"
   ]
  },
  {
   "cell_type": "code",
   "execution_count": 3,
   "metadata": {},
   "outputs": [],
   "source": [
    "L = 2\n",
    "test_fraction = 0.18\n",
    "val_fraction = 0.09\n",
    "def inchi_up_to_layer(inchi, layer=1):\n",
    "    return '/'.join(inchi.split('/')[:layer+1])\n",
    "random_state = np.random.RandomState(seed=2022)"
   ]
  },
  {
   "cell_type": "markdown",
   "metadata": {},
   "source": [
    "- Are the relative sizes of train/test/validation OK?"
   ]
  },
  {
   "cell_type": "markdown",
   "metadata": {},
   "source": [
    "## Reserve the test set from the Alchemy Contest for testing"
   ]
  },
  {
   "cell_type": "code",
   "execution_count": 4,
   "metadata": {},
   "outputs": [],
   "source": [
    "def idxs_per_split(DS, split):\n",
    "    return {int(i) for i in np.load(DS.split)[split].tolist()}\n",
    "def split_inchis(DS, split):\n",
    "    with open(DS.inchis, 'r', encoding='utf-8') as f:\n",
    "        idict = json.load(f)\n",
    "    return {\n",
    "        inchi_up_to_layer(idict[str(i)], L) for i in idxs_per_split(DS, split) \\\n",
    "        if str(i) in idict}"
   ]
  },
  {
   "cell_type": "code",
   "execution_count": 5,
   "metadata": {},
   "outputs": [],
   "source": [
    "train_tris = set()\n",
    "val_tris = set()\n",
    "test_tris = set(split_inchis(Alchemy, 'test_idx'))\n",
    "n_alchemy_test = len(test_tris)"
   ]
  },
  {
   "cell_type": "markdown",
   "metadata": {},
   "source": [
    "## Get (the largest part of) the Alchemy validation set"
   ]
  },
  {
   "cell_type": "code",
   "execution_count": 6,
   "metadata": {},
   "outputs": [
    {
     "name": "stdout",
     "output_type": "stream",
     "text": [
      "98.0% of the original validation set is independet of the test set(in terms of disjunct truncated InChIs).\n"
     ]
    }
   ],
   "source": [
    "val_tris_orig = set(split_inchis(Alchemy, 'val_idx'))\n",
    "val_tris = val_tris_orig - test_tris\n",
    "print('{:.1f}% of the original validation set is independet of the test set\\\n",
    "(in terms of disjunct truncated InChIs).'.format(100*len(val_tris)/len(val_tris_orig)))"
   ]
  },
  {
   "cell_type": "markdown",
   "metadata": {},
   "source": [
    "## Assign the rest of the Alchemy Dataset"
   ]
  },
  {
   "cell_type": "code",
   "execution_count": 7,
   "metadata": {},
   "outputs": [],
   "source": [
    "# Collect InChIs where the truncated InChIs differ (Alchemy)\n",
    "truncated_inchi_to_id = {}\n",
    "for k, v in inchi_dicts['alchemy'].items():\n",
    "    tri = inchi_up_to_layer(v, L)\n",
    "    if tri not in truncated_inchi_to_id:\n",
    "        truncated_inchi_to_id[tri] = [int(k)]\n",
    "    else:\n",
    "        truncated_inchi_to_id[tri] += [int(k)]"
   ]
  },
  {
   "cell_type": "code",
   "execution_count": 8,
   "metadata": {},
   "outputs": [
    {
     "data": {
      "text/plain": [
       "(0, 3869, 15572)"
      ]
     },
     "execution_count": 8,
     "metadata": {},
     "output_type": "execute_result"
    }
   ],
   "source": [
    "local_tris = set(truncated_inchi_to_id.keys())\n",
    "# Identify those tris that are already in the QM9 splits\n",
    "local_train_tris = local_tris & set(train_tris)\n",
    "local_val_tris = local_tris & set(val_tris)\n",
    "local_test_tris = local_tris & set(test_tris)\n",
    "len(local_train_tris), len(local_val_tris), len(local_test_tris)"
   ]
  },
  {
   "cell_type": "code",
   "execution_count": 9,
   "metadata": {},
   "outputs": [
    {
     "data": {
      "text/plain": [
       "(127674, 15740, 31480)"
      ]
     },
     "execution_count": 9,
     "metadata": {},
     "output_type": "execute_result"
    }
   ],
   "source": [
    "# Split the remaining truncated InChIs randomly into train, validation, test:\n",
    "remaining_tris = local_tris - local_train_tris - local_val_tris - local_test_tris\n",
    "idx = random_state.permutation(len(remaining_tris))\n",
    "trinchis = sorted(remaining_tris)\n",
    "trinchis = [trinchis[i] for i in idx]\n",
    "\n",
    "num_test = max(int(test_fraction * len(local_tris)) - len(local_test_tris), 0)\n",
    "num_val = max(int(val_fraction * len(local_tris)) - len(local_val_tris), 0)\n",
    "num_train = len(trinchis) - num_test - num_val\n",
    "assert num_train > 0\n",
    "\n",
    "local_train_tris.update(trinchis[:num_train])\n",
    "local_val_tris.update(trinchis[num_train : num_train + num_val])\n",
    "local_test_tris.update(trinchis[num_train + num_val :])\n",
    "len(local_train_tris), len(local_val_tris), len(local_test_tris)"
   ]
  },
  {
   "cell_type": "code",
   "execution_count": 10,
   "metadata": {},
   "outputs": [
    {
     "data": {
      "text/plain": [
       "(0.17999473967088636, 0.08999736983544318)"
      ]
     },
     "execution_count": 10,
     "metadata": {},
     "output_type": "execute_result"
    }
   ],
   "source": [
    "len(local_test_tris)/len(local_tris), len(local_val_tris)/(len(local_tris))"
   ]
  },
  {
   "cell_type": "code",
   "execution_count": 11,
   "metadata": {},
   "outputs": [
    {
     "data": {
      "text/plain": [
       "(149644, 17906, 35029)"
      ]
     },
     "execution_count": 11,
     "metadata": {},
     "output_type": "execute_result"
    }
   ],
   "source": [
    "train_idx = sorted([id for tri in local_train_tris for id in truncated_inchi_to_id[tri]])\n",
    "val_idx = sorted([id for tri in local_val_tris for id in truncated_inchi_to_id[tri]])\n",
    "test_idx = sorted([id for tri in local_test_tris for id in truncated_inchi_to_id[tri]])\n",
    "len(train_idx), len(val_idx), len(test_idx)"
   ]
  },
  {
   "cell_type": "code",
   "execution_count": 12,
   "metadata": {},
   "outputs": [],
   "source": [
    "split_file = '/home/cgaul/MaLTOSe2020/schnetpack_exps/data/alchemy_split_v2.npz'\n",
    "np.savez(split_file, train_idx=train_idx, val_idx=val_idx, test_idx=test_idx)"
   ]
  },
  {
   "cell_type": "code",
   "execution_count": 13,
   "metadata": {},
   "outputs": [],
   "source": [
    "# For the next set, take the split of this dataset into account:\n",
    "train_tris.update(local_train_tris)\n",
    "val_tris.update(local_val_tris)\n",
    "test_tris.update(local_test_tris)"
   ]
  },
  {
   "cell_type": "markdown",
   "metadata": {},
   "source": [
    "### QM9"
   ]
  },
  {
   "cell_type": "code",
   "execution_count": 14,
   "metadata": {},
   "outputs": [],
   "source": [
    "# Collect inchis where the truncated InChIs differ (QM9)\n",
    "truncated_inchi_to_id = {}\n",
    "for k, v in inchi_dicts['qm9'].items():\n",
    "    tri = inchi_up_to_layer(v, L)\n",
    "    if tri not in truncated_inchi_to_id:\n",
    "        truncated_inchi_to_id[tri] = [int(k)]\n",
    "    else:\n",
    "        truncated_inchi_to_id[tri] += [int(k)]"
   ]
  },
  {
   "cell_type": "code",
   "execution_count": 15,
   "metadata": {},
   "outputs": [
    {
     "data": {
      "text/plain": [
       "(15211, 1409, 1955)"
      ]
     },
     "execution_count": 15,
     "metadata": {},
     "output_type": "execute_result"
    }
   ],
   "source": [
    "local_tris = set(truncated_inchi_to_id.keys())\n",
    "# Identify those tris that are already in the previous splits\n",
    "local_train_tris = local_tris & set(train_tris)\n",
    "local_val_tris = local_tris & set(val_tris)\n",
    "local_test_tris = local_tris & set(test_tris)\n",
    "len(local_train_tris), len(local_val_tris), len(local_test_tris)"
   ]
  },
  {
   "cell_type": "code",
   "execution_count": 16,
   "metadata": {},
   "outputs": [
    {
     "data": {
      "text/plain": [
       "(83737, 10323, 20647)"
      ]
     },
     "execution_count": 16,
     "metadata": {},
     "output_type": "execute_result"
    }
   ],
   "source": [
    "remaining_tris = set(truncated_inchi_to_id.keys()) - local_train_tris - local_val_tris - local_test_tris\n",
    "# Split the remaining truncated InChIs randomly into train, validation, test:\n",
    "idx = random_state.permutation(len(remaining_tris))\n",
    "trinchis = sorted(remaining_tris)\n",
    "trinchis = [trinchis[i] for i in idx]\n",
    "\n",
    "num_test = max(int(test_fraction * len(local_tris)) - len(local_test_tris), 0)\n",
    "num_val = max(int(val_fraction * len(local_tris)) - len(local_val_tris), 0)\n",
    "num_train = len(trinchis) - num_test - num_val\n",
    "assert num_train > 0\n",
    "\n",
    "local_train_tris.update(trinchis[:num_train])\n",
    "local_val_tris.update(trinchis[num_train : num_train + num_val])\n",
    "local_test_tris.update(trinchis[num_train + num_val :])\n",
    "len(local_train_tris), len(local_val_tris), len(local_test_tris)"
   ]
  },
  {
   "cell_type": "code",
   "execution_count": 17,
   "metadata": {},
   "outputs": [
    {
     "data": {
      "text/plain": [
       "(0.17999773335541858, 0.08999450774582196)"
      ]
     },
     "execution_count": 17,
     "metadata": {},
     "output_type": "execute_result"
    }
   ],
   "source": [
    "len(local_test_tris)/len(local_tris), len(local_val_tris)/(len(local_tris))"
   ]
  },
  {
   "cell_type": "code",
   "execution_count": 18,
   "metadata": {},
   "outputs": [
    {
     "data": {
      "text/plain": [
       "(98192, 12031, 23656)"
      ]
     },
     "execution_count": 18,
     "metadata": {},
     "output_type": "execute_result"
    }
   ],
   "source": [
    "train_idx = sorted([id for tri in local_train_tris for id in truncated_inchi_to_id[tri]])\n",
    "val_idx = sorted([id for tri in local_val_tris for id in truncated_inchi_to_id[tri]])\n",
    "test_idx = sorted([id for tri in local_test_tris for id in truncated_inchi_to_id[tri]])\n",
    "len(train_idx), len(val_idx), len(test_idx)"
   ]
  },
  {
   "cell_type": "code",
   "execution_count": 19,
   "metadata": {},
   "outputs": [],
   "source": [
    "split_file = '/home/cgaul/MaLTOSe2020/schnetpack_exps/data/qm9_split_v2.npz'\n",
    "np.savez(split_file, train_idx=train_idx, val_idx=val_idx, test_idx=test_idx)"
   ]
  },
  {
   "cell_type": "code",
   "execution_count": 20,
   "metadata": {},
   "outputs": [],
   "source": [
    "# For the next set, take the split of this dataset into account:\n",
    "train_tris.update(local_train_tris)\n",
    "val_tris.update(local_val_tris)\n",
    "test_tris.update(local_test_tris)"
   ]
  },
  {
   "cell_type": "markdown",
   "metadata": {},
   "source": [
    "### OE62"
   ]
  },
  {
   "cell_type": "code",
   "execution_count": 21,
   "metadata": {},
   "outputs": [],
   "source": [
    "# Collect InChIs where the truncated InChIs differ (OE62)\n",
    "truncated_inchi_to_id = {}\n",
    "for k, v in inchi_dicts['oe62'].items():\n",
    "    tri = inchi_up_to_layer(v, L)\n",
    "    if tri not in truncated_inchi_to_id:\n",
    "        truncated_inchi_to_id[tri] = [int(k)]\n",
    "    else:\n",
    "        truncated_inchi_to_id[tri] += [int(k)]"
   ]
  },
  {
   "cell_type": "code",
   "execution_count": 22,
   "metadata": {},
   "outputs": [
    {
     "data": {
      "text/plain": [
       "(303, 35, 65)"
      ]
     },
     "execution_count": 22,
     "metadata": {},
     "output_type": "execute_result"
    }
   ],
   "source": [
    "local_tris = set(truncated_inchi_to_id.keys())\n",
    "# Identify those tris that are already in the previous splits\n",
    "local_train_tris = local_tris & set(train_tris)\n",
    "local_val_tris = local_tris & set(val_tris)\n",
    "local_test_tris = local_tris & set(test_tris)\n",
    "len(local_train_tris), len(local_val_tris), len(local_test_tris)"
   ]
  },
  {
   "cell_type": "code",
   "execution_count": 23,
   "metadata": {},
   "outputs": [
    {
     "data": {
      "text/plain": [
       "(44822, 5525, 11051)"
      ]
     },
     "execution_count": 23,
     "metadata": {},
     "output_type": "execute_result"
    }
   ],
   "source": [
    "# Split the remaining truncated InChIs randomly into train, validation, test:\n",
    "remaining_tris = set(truncated_inchi_to_id.keys()) - local_train_tris - local_val_tris - local_test_tris\n",
    "idx = random_state.permutation(len(remaining_tris))\n",
    "trinchis = sorted(remaining_tris)\n",
    "trinchis = [trinchis[i] for i in idx]\n",
    "\n",
    "num_test = max(int(test_fraction * len(local_tris)) - len(local_test_tris), 0)\n",
    "num_val = max(int(val_fraction * len(local_tris)) - len(local_val_tris), 0)\n",
    "num_train = len(trinchis) - num_test - num_val\n",
    "assert num_train > 0\n",
    "\n",
    "local_train_tris.update(trinchis[:num_train])\n",
    "local_val_tris.update(trinchis[num_train : num_train + num_val])\n",
    "local_test_tris.update(trinchis[num_train + num_val :])\n",
    "len(local_train_tris), len(local_val_tris), len(local_test_tris)"
   ]
  },
  {
   "cell_type": "code",
   "execution_count": 24,
   "metadata": {},
   "outputs": [
    {
     "data": {
      "text/plain": [
       "(0.17998957620769407, 0.08998664451610802)"
      ]
     },
     "execution_count": 24,
     "metadata": {},
     "output_type": "execute_result"
    }
   ],
   "source": [
    "len(local_test_tris)/len(local_tris), len(local_val_tris)/(len(local_tris))"
   ]
  },
  {
   "cell_type": "code",
   "execution_count": 25,
   "metadata": {},
   "outputs": [
    {
     "data": {
      "text/plain": [
       "(44895, 5531, 11063)"
      ]
     },
     "execution_count": 25,
     "metadata": {},
     "output_type": "execute_result"
    }
   ],
   "source": [
    "train_idx = sorted([id for tri in local_train_tris for id in truncated_inchi_to_id[tri]])\n",
    "val_idx = sorted([id for tri in local_val_tris for id in truncated_inchi_to_id[tri]])\n",
    "test_idx = sorted([id for tri in local_test_tris for id in truncated_inchi_to_id[tri]])\n",
    "len(train_idx), len(val_idx), len(test_idx)"
   ]
  },
  {
   "cell_type": "code",
   "execution_count": 26,
   "metadata": {},
   "outputs": [],
   "source": [
    "split_file = '/home/cgaul/MaLTOSe2020/schnetpack_exps/data/oe62/split_v2.npz'\n",
    "np.savez(split_file, train_idx=train_idx, val_idx=val_idx, test_idx=test_idx)"
   ]
  },
  {
   "cell_type": "code",
   "execution_count": 27,
   "metadata": {},
   "outputs": [],
   "source": [
    "# For the next set, take the split of this dataset into account:\n",
    "train_tris.update(local_train_tris)\n",
    "val_tris.update(local_val_tris)\n",
    "test_tris.update(local_test_tris)"
   ]
  },
  {
   "cell_type": "markdown",
   "metadata": {},
   "source": [
    "### HOPV"
   ]
  },
  {
   "cell_type": "code",
   "execution_count": 28,
   "metadata": {},
   "outputs": [],
   "source": [
    "# Collect InChIs where the truncated InChIs differ (HOPV)\n",
    "truncated_inchi_to_id = {}\n",
    "for k, v in inchi_dicts['hopv'].items():\n",
    "    tri = inchi_up_to_layer(v, L)\n",
    "    if tri not in truncated_inchi_to_id:\n",
    "        truncated_inchi_to_id[tri] = [int(k)]\n",
    "    else:\n",
    "        truncated_inchi_to_id[tri] += [int(k)]"
   ]
  },
  {
   "cell_type": "code",
   "execution_count": 29,
   "metadata": {},
   "outputs": [
    {
     "data": {
      "text/plain": [
       "(1, 1, 1)"
      ]
     },
     "execution_count": 29,
     "metadata": {},
     "output_type": "execute_result"
    }
   ],
   "source": [
    "local_tris = set(truncated_inchi_to_id.keys())\n",
    "# Identify those tris that are already in the previous splits\n",
    "local_train_tris = local_tris & set(train_tris)\n",
    "local_val_tris = local_tris & set(val_tris)\n",
    "local_test_tris = local_tris & set(test_tris)\n",
    "len(local_train_tris), len(local_val_tris), len(local_test_tris)"
   ]
  },
  {
   "cell_type": "code",
   "execution_count": 30,
   "metadata": {},
   "outputs": [
    {
     "data": {
      "text/plain": [
       "(254, 31, 62)"
      ]
     },
     "execution_count": 30,
     "metadata": {},
     "output_type": "execute_result"
    }
   ],
   "source": [
    "# Split the remaining truncated InChIs randomly into train, validation, test:\n",
    "remaining_tris = set(truncated_inchi_to_id.keys()) - local_train_tris - local_val_tris - local_test_tris\n",
    "idx = random_state.permutation(len(remaining_tris))\n",
    "trinchis = sorted(remaining_tris)\n",
    "trinchis = [trinchis[i] for i in idx]\n",
    "\n",
    "num_test = max(int(test_fraction * len(local_tris)) - len(local_test_tris), 0)\n",
    "num_val = max(int(val_fraction * len(local_tris)) - len(local_val_tris), 0)\n",
    "num_train = len(trinchis) - num_test - num_val\n",
    "assert num_train > 0\n",
    "\n",
    "local_train_tris.update(trinchis[:num_train])\n",
    "local_val_tris.update(trinchis[num_train : num_train + num_val])\n",
    "local_test_tris.update(trinchis[num_train + num_val :])\n",
    "len(local_train_tris), len(local_val_tris), len(local_test_tris)"
   ]
  },
  {
   "cell_type": "code",
   "execution_count": 31,
   "metadata": {},
   "outputs": [
    {
     "data": {
      "text/plain": [
       "(0.1786743515850144, 0.0893371757925072)"
      ]
     },
     "execution_count": 31,
     "metadata": {},
     "output_type": "execute_result"
    }
   ],
   "source": [
    "len(local_test_tris)/len(local_tris), len(local_val_tris)/(len(local_tris))"
   ]
  },
  {
   "cell_type": "code",
   "execution_count": 32,
   "metadata": {},
   "outputs": [
    {
     "data": {
      "text/plain": [
       "(3569, 412, 874)"
      ]
     },
     "execution_count": 32,
     "metadata": {},
     "output_type": "execute_result"
    }
   ],
   "source": [
    "train_idx = sorted([id for tri in local_train_tris for id in truncated_inchi_to_id[tri]])\n",
    "val_idx = sorted([id for tri in local_val_tris for id in truncated_inchi_to_id[tri]])\n",
    "test_idx = sorted([id for tri in local_test_tris for id in truncated_inchi_to_id[tri]])\n",
    "len(train_idx), len(val_idx), len(test_idx)"
   ]
  },
  {
   "cell_type": "code",
   "execution_count": 33,
   "metadata": {},
   "outputs": [],
   "source": [
    "split_file = '/home/cgaul/MaLTOSe2020/schnetpack_exps/data/hopv/split_v2.npz'\n",
    "np.savez(split_file, train_idx=train_idx, val_idx=val_idx, test_idx=test_idx)"
   ]
  },
  {
   "cell_type": "code",
   "execution_count": 34,
   "metadata": {},
   "outputs": [],
   "source": [
    "# For the next set, take the split of this dataset into account:\n",
    "train_tris.update(local_train_tris)\n",
    "val_tris.update(local_val_tris)\n",
    "test_tris.update(local_test_tris)"
   ]
  },
  {
   "cell_type": "markdown",
   "metadata": {},
   "source": [
    "## Some plausibility checks"
   ]
  },
  {
   "cell_type": "code",
   "execution_count": 35,
   "metadata": {},
   "outputs": [
    {
     "data": {
      "text/plain": [
       "set()"
      ]
     },
     "execution_count": 35,
     "metadata": {},
     "output_type": "execute_result"
    }
   ],
   "source": [
    "train_tris & test_tris"
   ]
  },
  {
   "cell_type": "code",
   "execution_count": 36,
   "metadata": {},
   "outputs": [
    {
     "data": {
      "text/plain": [
       "set()"
      ]
     },
     "execution_count": 36,
     "metadata": {},
     "output_type": "execute_result"
    }
   ],
   "source": [
    "train_tris & val_tris"
   ]
  },
  {
   "cell_type": "code",
   "execution_count": 37,
   "metadata": {},
   "outputs": [
    {
     "data": {
      "text/plain": [
       "set()"
      ]
     },
     "execution_count": 37,
     "metadata": {},
     "output_type": "execute_result"
    }
   ],
   "source": [
    "val_tris & test_tris"
   ]
  },
  {
   "cell_type": "code",
   "execution_count": 38,
   "metadata": {},
   "outputs": [
    {
     "data": {
      "text/plain": [
       "240972"
      ]
     },
     "execution_count": 38,
     "metadata": {},
     "output_type": "execute_result"
    }
   ],
   "source": [
    "len(train_tris)"
   ]
  },
  {
   "cell_type": "code",
   "execution_count": 39,
   "metadata": {},
   "outputs": [
    {
     "data": {
      "text/plain": [
       "61219"
      ]
     },
     "execution_count": 39,
     "metadata": {},
     "output_type": "execute_result"
    }
   ],
   "source": [
    "len(test_tris)"
   ]
  },
  {
   "cell_type": "code",
   "execution_count": 40,
   "metadata": {},
   "outputs": [
    {
     "data": {
      "text/plain": [
       "30174"
      ]
     },
     "execution_count": 40,
     "metadata": {},
     "output_type": "execute_result"
    }
   ],
   "source": [
    "len(val_tris)"
   ]
  },
  {
   "cell_type": "code",
   "execution_count": null,
   "metadata": {},
   "outputs": [],
   "source": []
  }
 ],
 "metadata": {
  "kernelspec": {
   "display_name": "schnetpack-extd",
   "language": "python",
   "name": "schnetpack-extd"
  },
  "language_info": {
   "codemirror_mode": {
    "name": "ipython",
    "version": 3
   },
   "file_extension": ".py",
   "mimetype": "text/x-python",
   "name": "python",
   "nbconvert_exporter": "python",
   "pygments_lexer": "ipython3",
   "version": "3.9.7"
  }
 },
 "nbformat": 4,
 "nbformat_minor": 4
}
