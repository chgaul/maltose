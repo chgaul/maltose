{
 "cells": [
  {
   "cell_type": "markdown",
   "metadata": {},
   "source": [
    "## Convert the ase atoms of QM9 to rdkit molecules and generate InChIs"
   ]
  },
  {
   "cell_type": "code",
   "execution_count": null,
   "metadata": {},
   "outputs": [],
   "source": [
    "import os\n",
    "import json\n",
    "import ase\n",
    "import ase.db.sqlite"
   ]
  },
  {
   "cell_type": "code",
   "execution_count": null,
   "metadata": {},
   "outputs": [],
   "source": [
    "from utils.conversions import xyz2rdkit"
   ]
  },
  {
   "cell_type": "code",
   "execution_count": null,
   "metadata": {},
   "outputs": [],
   "source": [
    "import tempfile\n",
    "import rdkit"
   ]
  },
  {
   "cell_type": "code",
   "execution_count": null,
   "metadata": {},
   "outputs": [],
   "source": [
    "# Same as utils.conversions.xyz2rdkit, but vary use_huckel parameter\n",
    "import xyz2mol\n",
    "def xyz2rdkit(src_file: str, use_huckel=False):\n",
    "    atoms, charge, xyz_coordinates = xyz2mol.read_xyz_file(src_file)\n",
    "    mols = xyz2mol.xyz2mol(atoms, xyz_coordinates,\n",
    "        charge=charge,\n",
    "        use_graph=use_graph,\n",
    "        allow_charged_fragments=True,\n",
    "        embed_chiral=True,\n",
    "        use_huckel=use_huckel)\n",
    "    assert len(mols) == 1\n",
    "    return mols[0]"
   ]
  },
  {
   "cell_type": "code",
   "execution_count": null,
   "metadata": {},
   "outputs": [],
   "source": [
    "db = ase.db.connect('data/qm9.db')\n",
    "inchis = {}\n",
    "success = 0\n",
    "failed = []\n",
    "for idx in range(0, len(db)):\n",
    "    ase_idx = idx + 1\n",
    "    for row in db.select(id=int(ase_idx)):\n",
    "        atoms = row.toatoms()\n",
    "        \n",
    "        tmpdir = tempfile.TemporaryDirectory()\n",
    "        xyzfile = os.path.join(tmpdir.name, 'test.xyz')\n",
    "        ase.io.write(xyzfile, atoms)\n",
    "        try:\n",
    "            try:\n",
    "                rmol = xyz2rdkit(xyzfile, use_huckel=False)\n",
    "                # This fails for some 18 molecules.\n",
    "            except:\n",
    "                print(idx, ': try with use_huckel=True...', end='')\n",
    "                rmol = xyz2rdkit(xyzfile, use_huckel=True)\n",
    "                # This fails only for 6 molecules out of the above 18 molecules,\n",
    "                print('success!')\n",
    "            inchi = rdkit.Chem.rdinchi.MolToInchi(rmol)[0]\n",
    "            inchis[idx] = inchi\n",
    "            success += 1\n",
    "        except:\n",
    "            failed.append(idx)\n",
    "            print(\"Failed on id {}.\".format(idx))\n",
    "        if idx % 100 == 0:\n",
    "            print(\"progress: {:.1f}%\".format(100*idx/len(db)), end=\"\\r\")\n",
    "        if success < 0:\n",
    "            break\n",
    "    else:\n",
    "        # Continue if the inner loop wasn't broken.\n",
    "        continue\n",
    "    # Inner loop was broken, break the outer.\n",
    "    break\n",
    "    \n",
    "success, len(failed)"
   ]
  },
  {
   "cell_type": "code",
   "execution_count": null,
   "metadata": {},
   "outputs": [],
   "source": [
    "# Dump the dictionary idx -> InChI\n",
    "inchi_file = 'data/qm9-inchis.json'\n",
    "with open(inchi_file, 'w', encoding='utf-8') as f:\n",
    "    json.dump(inchis, f, indent=0)"
   ]
  },
  {
   "cell_type": "code",
   "execution_count": null,
   "metadata": {},
   "outputs": [],
   "source": [
    "# Dump the list of idx where no InChI could be obtained\n",
    "with open('data/qm9-inchi-failed.json', 'w', encoding='utf-8') as f:\n",
    "    json.dump(failed, f, indent=0)"
   ]
  },
  {
   "cell_type": "markdown",
   "metadata": {},
   "source": [
    "## View the failed molecules"
   ]
  },
  {
   "cell_type": "code",
   "execution_count": null,
   "metadata": {},
   "outputs": [],
   "source": [
    "failedats = []\n",
    "for idx in failed:\n",
    "    print(idx)\n",
    "    ase_idx = idx + 1\n",
    "    row = db.select(id=int(ase_idx))\n",
    "    failedats.append(next(row).toatoms())"
   ]
  },
  {
   "cell_type": "code",
   "execution_count": null,
   "metadata": {},
   "outputs": [],
   "source": [
    "from ase.visualize import view\n",
    "amol = failedats[3]\n",
    "view(amol, viewer='x3d')"
   ]
  },
  {
   "cell_type": "code",
   "execution_count": null,
   "metadata": {},
   "outputs": [],
   "source": [
    "tmpdir = tempfile.TemporaryDirectory()\n",
    "xyzfile = os.path.join(tmpdir.name, 'test.xyz')\n",
    "ase.io.write(xyzfile, amol)\n",
    "rmol = xyz2rdkit(xyzfile, use_huckel=False)\n",
    "inchi = rdkit.Chem.rdinchi.MolToInchi(rmol)[0]"
   ]
  },
  {
   "cell_type": "code",
   "execution_count": null,
   "metadata": {},
   "outputs": [],
   "source": []
  }
 ],
 "metadata": {
  "kernelspec": {
   "display_name": "schnetpack-extd",
   "language": "python",
   "name": "schnetpack-extd"
  },
  "language_info": {
   "codemirror_mode": {
    "name": "ipython",
    "version": 3
   },
   "file_extension": ".py",
   "mimetype": "text/x-python",
   "name": "python",
   "nbconvert_exporter": "python",
   "pygments_lexer": "ipython3",
   "version": "3.9.7"
  }
 },
 "nbformat": 4,
 "nbformat_minor": 2
}
